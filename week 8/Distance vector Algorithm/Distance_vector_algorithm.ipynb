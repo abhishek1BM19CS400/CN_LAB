{
 "cells": [
  {
   "cell_type": "code",
   "execution_count": 2,
   "metadata": {},
   "outputs": [],
   "source": [
    "class Network:\n",
    "    def __init__(self,n):\n",
    "        self.matrix=[]\n",
    "        self.n=n \n",
    "        \n",
    "    def addlink(self, u, v, w):  \n",
    "        self.matrix.append((u, v, w)) \n",
    "        \n",
    "    def printtable(self, dist,src):\n",
    "        print(\"Routing Table of NODE{}\".format(chr(ord('A')+src)))\n",
    "        print(\"{0}\\t{1}\".format(\"Destination\", \"cost\"))  \n",
    "        for i in range(self.n):  \n",
    "            print(\"{0}\\t{1}\".format(chr(ord('A')+i), dist[i]))  \n",
    "    def algor(self, src):  \n",
    "        dist = [99] * self.n \n",
    "        dist[src] = 0\n",
    "        for _ in range(self.n - 1):  \n",
    "            for u, v, w in self.matrix:  \n",
    "                if dist[u] != 99 and dist[u] + w < dist[v]:  \n",
    "                        dist[v] = dist[u] + w  \n",
    "        self.printtable(dist,src) "
   ]
  },
  {
   "cell_type": "code",
   "execution_count": 4,
   "metadata": {},
   "outputs": [
    {
     "name": "stdout",
     "output_type": "stream",
     "text": [
      "Enter No. of Nodes : \n",
      "3\n",
      "Enter distance Matrix :\n",
      "0 2 99\n",
      "1 0 99\n",
      "3 2 0\n",
      "Routing Table of NODEA\n",
      "Destination\tcost\n",
      "A\t0\n",
      "B\t99\n",
      "C\t99\n",
      "Routing Table of NODEB\n",
      "Destination\tcost\n",
      "A\t1\n",
      "B\t0\n",
      "C\t99\n",
      "Routing Table of NODEC\n",
      "Destination\tcost\n",
      "A\t99\n",
      "B\t99\n",
      "C\t0\n"
     ]
    }
   ],
   "source": [
    "def main():\n",
    "    matrix=[]\n",
    "    print(\"Enter No. of Nodes : \")\n",
    "    n=int(input())\n",
    "    print(\"Enter distance Matrix :\")\n",
    "    for i in range(n):\n",
    "        m=list(map(int,input().split(\" \")))\n",
    "        matrix.append(m)\n",
    "    g=Network(n)\n",
    "    for i in range(n):\n",
    "        for j in range(n):\n",
    "            if matrix[i][j]==1:\n",
    "                g.addlink(i,j,1)\n",
    "    for _ in range(n):\n",
    "        g.algor(_)\n",
    "main()"
   ]
  },
  {
   "cell_type": "code",
   "execution_count": null,
   "metadata": {},
   "outputs": [],
   "source": []
  }
 ],
 "metadata": {
  "kernelspec": {
   "display_name": "Python 3",
   "language": "python",
   "name": "python3"
  },
  "language_info": {
   "codemirror_mode": {
    "name": "ipython",
    "version": 3
   },
   "file_extension": ".py",
   "mimetype": "text/x-python",
   "name": "python",
   "nbconvert_exporter": "python",
   "pygments_lexer": "ipython3",
   "version": "3.8.3"
  }
 },
 "nbformat": 4,
 "nbformat_minor": 4
}
