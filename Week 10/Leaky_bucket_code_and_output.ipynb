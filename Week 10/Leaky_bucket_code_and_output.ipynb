{
 "metadata": {
  "language_info": {
   "codemirror_mode": {
    "name": "ipython",
    "version": 3
   },
   "file_extension": ".py",
   "mimetype": "text/x-python",
   "name": "python",
   "nbconvert_exporter": "python",
   "pygments_lexer": "ipython3",
   "version": "3.6.8-final"
  },
  "orig_nbformat": 2,
  "kernelspec": {
   "name": "python36832bit877e2e3c2b21480abb9d4bd996202df4",
   "display_name": "Python 3.6.8 32-bit"
  }
 },
 "nbformat": 4,
 "nbformat_minor": 2,
 "cells": [
  {
   "cell_type": "code",
   "execution_count": 5,
   "metadata": {},
   "outputs": [
    {
     "output_type": "stream",
     "name": "stdout",
     "text": [
      "==================\n",
      "The output rate is : 100\n",
      "The bucket size is : 1000 capacity\n",
      "================\n",
      "Packet number 0 | Packet Size 3 \n",
      "Bucket Output Successful!\n",
      "Last 3 bytes sent.\n",
      "================\n",
      "Packet number 1 | Packet Size 33 \n",
      "Bucket Output Successful!\n",
      "Last 33 bytes sent.\n",
      "================\n",
      "Packet number 2 | Packet Size 1305 \n",
      "Bucket Overflow\n",
      "==================\n",
      "Packet number 3 | Packet Size 1500 \n",
      "Bucket Overflow\n",
      "==================\n"
     ]
    }
   ],
   "source": [
    "def leaky_bucket(output,bucket_size):\n",
    "    print('==================')\n",
    "    print(f'The output rate is : {output}')\n",
    "    print(f'The bucket size is : {bucket_size} capacity')\n",
    "    print('================')\n",
    "    packet_no = int(input('Enter number of packets you want to send : '))\n",
    "\n",
    "    for i in range(packet_no):\n",
    "        packet_size = int(input('Enter packet size : '))\n",
    "        if packet_size < bucket_size :\n",
    "            if packet_size <= output:\n",
    "                print(f'Packet number {i} | Packet Size {packet_size} ')\n",
    "                print('Bucket Output Successful!')\n",
    "                print(f'Last {packet_size} bytes sent.')\n",
    "                print('================')\n",
    "            else:\n",
    "                print(f'Packet number {i} | Packet Size {packet_size} ')\n",
    "                print('Bucket Output Successful!')\n",
    "                sent = packet_size - output\n",
    "                print(f'{output} bytes outputted ')\n",
    "                print(f'Last {sent} bytes sent')\n",
    "                print('=================')\n",
    "        else:\n",
    "            print(f'Packet number {i} | Packet Size {packet_size} ')\n",
    "            print('Bucket Overflow')\n",
    "            print('==================')\n",
    "\n",
    "output = int(input('Enter Output Rate : '))\n",
    "bucket_size = int(input('Enter the bucket size : '))\n",
    "\n",
    "leaky_bucket(output,bucket_size)"
   ]
  },
  {
   "cell_type": "code",
   "execution_count": null,
   "metadata": {},
   "outputs": [],
   "source": []
  }
 ]
}